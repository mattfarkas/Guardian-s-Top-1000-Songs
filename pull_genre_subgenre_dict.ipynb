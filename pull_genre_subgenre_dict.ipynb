{
 "cells": [
  {
   "cell_type": "code",
   "execution_count": 15,
   "metadata": {
    "collapsed": true
   },
   "outputs": [],
   "source": [
    "import pandas as pd\n",
    "import numpy as np\n",
    "from scipy import stats\n",
    "import time\n",
    "import csv\n",
    "import os\n",
    "import sys\n",
    "import re\n",
    "import itertools\n",
    "from random import shuffle\n",
    "from IPython.display import display, Image\n",
    "import pprint as pp\n",
    "import matplotlib.pyplot as plt\n",
    "import matplotlib.mlab as mlab\n",
    "from textwrap import wrap\n",
    "%matplotlib inline\n",
    "\n",
    "######################## Learning ########################\n",
    "# from sklearn_pandas import DataFrameMapper\n",
    "# from sklearn.linear_model import LogisticRegression\n",
    "# from sklearn.cluster import KMeans\n",
    "# from sklearn import preprocessing\n",
    "\n",
    "# import tensorflow as tf\n",
    "# depreacted\n",
    "# from tensorflow.models.rnn import rnn\n",
    "# from tensorflow.models.rnn import rnn_cell\n",
    "\n",
    "#################### Viz and plotting ####################\n",
    "\n",
    "# from matplotlib.colors import LogNorm\n",
    "\n",
    "# import plotly\n",
    "# import plotly.plotly as py\n",
    "# import plotly.graph_objs as go\n",
    "# from plotly.tools import FigureFactory as FF\n",
    "\n",
    "# from geopy.geocoders import Nominatim\n",
    "# from pygeocoder import Geocoder\n",
    "\n",
    "########################### SQL ##########################\n",
    "# from sqlalchemy import create_engine\n",
    "# from sqlalchemy.sql import text\n",
    "\n",
    "########################### Text / Web Stuff ##########################\n",
    "\n",
    "import urllib2\n",
    "from bs4 import BeautifulSoup as bs\n",
    "import wikipedia as wiki\n",
    "import re\n",
    "\n",
    "##### for reference #####\n",
    "# import statsmodels.api as sm\n",
    "# import pylab as pl\n",
    "# from mpl_toolkits.mplot3d import Axes3D"
   ]
  },
  {
   "cell_type": "code",
   "execution_count": 17,
   "metadata": {
    "collapsed": false
   },
   "outputs": [
    {
     "name": "stdout",
     "output_type": "stream",
     "text": [
      "Generated Genre-Subgenre dictionary in 14.78s.\n"
     ]
    }
   ],
   "source": [
    "def get_genres_and_subs_wiki():\n",
    "    genre_dict = {}\n",
    "    url = wiki.page(\"Category:Musical_subgenres_by_genre\").url\n",
    "    page = urllib2.urlopen(url)\n",
    "    soup = bs(page)\n",
    "    selection = soup.findAll(\"div\", { \"class\" : \"CategoryTreeSection\" })\n",
    "    for item in selection:\n",
    "        genre_tag = item.findNext('a')\n",
    "        genre = (genre_tag.text)\n",
    "        if genre[-7:] == ' genres':\n",
    "            genre = str(genre[:-7])\n",
    "#         print (genre)\n",
    "        genre_dict[(genre)] = []\n",
    "        genre_link = (genre_tag.get('href'))[6:]\n",
    "#         print (genre_link)\n",
    "        genre_page = urllib2.urlopen(wiki.page(genre_link).url)\n",
    "        genre_soup = bs(genre_page)\n",
    "        genre_selection = genre_soup.findAll(\"div\", {\"class\": \"mw-content-ltr\"})[-1]\n",
    "        lists_of_subs = genre_selection.findAll('li')\n",
    "        for sub in lists_of_subs:\n",
    "#             print (sub.text)\n",
    "            sub_str = str(sub.text.encode('ascii', 'ignore'))\n",
    "            if sub_str[:7] != 'List of':\n",
    "                genre_dict[genre].append(sub_str)\n",
    "            else:\n",
    "#                 print (\"{}...really?\".format(sub_str))\n",
    "                pass    \n",
    "        genre_page.close()\n",
    "    page.close()\n",
    "    return genre_dict\n",
    "\n",
    "\n",
    "t0 = time.time()\n",
    "genre_with_subs = get_genres_and_subs_wiki()\n",
    "print (\"Generated Genre-Subgenre dictionary in {:.4}s.\".format(time.time() - t0))\n",
    "# pp.pprint(genre_with_subs)"
   ]
  },
  {
   "cell_type": "code",
   "execution_count": null,
   "metadata": {
    "collapsed": true
   },
   "outputs": [],
   "source": [
    "# save the subgenre dict to a pickle\n",
    "with open('sub_genre_dict' + '.pkl', 'wb') as f:\n",
    "        pickle.dump(genre_with_subs, f, pickle.HIGHEST_PROTOCOL)"
   ]
  },
  {
   "cell_type": "markdown",
   "metadata": {},
   "source": [
    "## Pull genres/subgenres from http://www.musicgenreslist.com/"
   ]
  },
  {
   "cell_type": "code",
   "execution_count": 19,
   "metadata": {
    "collapsed": false
   },
   "outputs": [
    {
     "name": "stdout",
     "output_type": "stream",
     "text": [
      "['European Music (Folk / Pop)', 'Inspirational (incl. Gospel)', 'Hip Hop / Rap', 'Latin', 'Jazz', 'Asian Pop (J-Pop, K-pop)', 'Singer / Songwriter (inc. Folk)', 'Reggae', 'Opera', 'Country', 'World Music / Beats', 'Rock', 'Blues', 'R&B / Soul', 'Pop (Popular music)', 'Classical', 'Dance', 'Easy Listening', 'New Age', 'Indie Pop', 'Alternative', 'Electronic']\n",
      "\n",
      "There are 22 genres.\n",
      "Generated Genre-Subgenre dictionary from musicgenrelist.com in 46.82s.\n"
     ]
    }
   ],
   "source": [
    "# Get list of genres and assign to keys of dict\n",
    "\n",
    "t2 = time.time()\n",
    "\n",
    "genre_organizer = {}\n",
    "url = (\"http://www.musicgenreslist.com/\")\n",
    "page = urllib2.urlopen(url)\n",
    "soup = bs(page)\n",
    "selection = soup.find(\"div\", { \"class\" : \"one_half last\" })\n",
    "for genre in selection.findAll('li'):\n",
    "    temp = str(genre.text)[1:]\n",
    "    if temp[-6:] == ' Music':\n",
    "        temp = temp.replace(' Music', '')\n",
    "    genre_organizer[temp] = []\n",
    "page.close()\n",
    "\n",
    "print (genre_organizer.keys())\n",
    "print (\"\\nThere are {} genres.\".format(len(genre_organizer)))\n",
    "\n",
    "\n",
    "# Get subgenres for genres\n",
    "url = (\"http://www.musicgenreslist.com/\")\n",
    "page = urllib2.urlopen(url)\n",
    "soup = bs(page)\n",
    "selection = soup.find('h2').findNext('ul') # print out selection and this for loop will make sense...'should'..\n",
    "for section in selection.findAll('li'):\n",
    "    if (section.find('a')) != None:\n",
    "        genre = section.find('a').text\n",
    "        for key_genre in genre_organizer.keys():\n",
    "            if genre.encode('ascii', 'ignore') in key_genre.encode('ascii', 'ignore'):\n",
    "#                 print (\"\\n{} is a genre!\".format(genre))\n",
    "                if section.find('ul') != None:\n",
    "                    for sub in section.find('ul').findAll('li'):\n",
    "                        m = (re.search('(^.*?\\()', sub.text))\n",
    "                        if m != None:\n",
    "                            genre_organizer[key_genre].append(m.group(0)[:-2].encode('ascii', 'ignore'))\n",
    "#                             print (\"{} added!\".format(m.group(0)[:-2].encode('ascii', 'ignore')))\n",
    "\n",
    "                        else:\n",
    "                            genre_organizer[key_genre].append(sub.text.encode('ascii', 'ignore'))\n",
    "#                             print (\"{} added!\".format(sub.text.encode('ascii', 'ignore')))\n",
    "            else:\n",
    "#                 print (\"\\n{} is not a genre.\".format(genre.encode('ascii', 'ignore')))\n",
    "                pass\n",
    "\n",
    "\n",
    "page.close()\n",
    "# pp.pprint(genre_organizer)\n",
    "print (\"Generated Genre-Subgenre dictionary from musicgenrelist.com in {:.4}s.\".format(time.time() - t0))"
   ]
  },
  {
   "cell_type": "code",
   "execution_count": 12,
   "metadata": {
    "collapsed": false
   },
   "outputs": [
    {
     "name": "stdout",
     "output_type": "stream",
     "text": [
      "Inspirational (incl. Gospel) genre didn't pull sub-genres correctly.\n",
      "Hip Hop / Rap genre didn't pull sub-genres correctly.\n",
      "Singer / Songwriter (inc. Folk) genre didn't pull sub-genres correctly.\n",
      "Opera genre didn't pull sub-genres correctly.\n",
      "R&B / Soul genre didn't pull sub-genres correctly.\n"
     ]
    }
   ],
   "source": [
    "# Check which genres didn't scrape correctly\n",
    "for key in genre_organizer.keys():\n",
    "    if len(genre_organizer[key]) == 0:\n",
    "        print (\"{} genre didn't pull sub-genres correctly.\".format(key))"
   ]
  }
 ],
 "metadata": {
  "kernelspec": {
   "display_name": "Python 2",
   "language": "python",
   "name": "python2"
  },
  "language_info": {
   "codemirror_mode": {
    "name": "ipython",
    "version": 2
   },
   "file_extension": ".py",
   "mimetype": "text/x-python",
   "name": "python",
   "nbconvert_exporter": "python",
   "pygments_lexer": "ipython2",
   "version": "2.7.12"
  }
 },
 "nbformat": 4,
 "nbformat_minor": 0
}
