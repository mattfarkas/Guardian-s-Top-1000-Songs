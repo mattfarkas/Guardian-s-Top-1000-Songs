{
 "cells": [
  {
   "cell_type": "code",
   "execution_count": 109,
   "metadata": {
    "collapsed": true
   },
   "outputs": [],
   "source": [
    "import pandas as pd\n",
    "from IPython.display import display"
   ]
  },
  {
   "cell_type": "code",
   "execution_count": 142,
   "metadata": {
    "collapsed": false
   },
   "outputs": [],
   "source": [
    "art = pd.read_csv(\"uni_messed_up_bill/artists_and_genres.csv\")\n",
    "gen = pd.read_csv(\"uni_messed_up_bill/genres_and_subs.csv\")\n",
    "mis = pd.read_csv(\"uni_messed_up_bill/missing_songs.csv\")\n",
    "top = pd.read_csv(\"uni_messed_up_bill/top_songs_more_info.csv\")"
   ]
  },
  {
   "cell_type": "code",
   "execution_count": 143,
   "metadata": {
    "collapsed": false,
    "scrolled": false
   },
   "outputs": [],
   "source": [
    "def fix_uni(string):\n",
    "    string = str(string).decode('utf-8')\n",
    "    string = string.replace(u\"\\u2019\",\"'\")\n",
    "    string = string.replace(u\"\\u2018\",\"'\")\n",
    "    string = string.replace(u\"\\u2013\",\"-\")\n",
    "    string = string.replace(u\"\\u201c\",'\"') \n",
    "    string = string.replace(u\"\\u201d\",'\"')\n",
    "    string = string.replace(u\"\\u2026\",'\"')\n",
    "    string = string.replace(u\"\\xf8\",'o') # replacing o with slash with o\n",
    "    string = string.replace(u\"\\xa0\",' ')\n",
    "    string = string.replace(u\"0xc3\",' ')\n",
    "    string = string.replace(u\"\\xfa\",' ')\n",
    "    string = string.encode('ascii', 'strict')\n",
    "    return string"
   ]
  },
  {
   "cell_type": "code",
   "execution_count": 144,
   "metadata": {
    "collapsed": false
   },
   "outputs": [],
   "source": [
    "top[\"ARTIST\"] = top.ARTIST.apply(lambda s: fix_uni(s))\n",
    "gen[\"artist\"] = gen.artist.apply(lambda s: fix_uni(s))\n",
    "mis[\"ARTIST\"] = mis.ARTIST.apply(lambda s: fix_uni(s))\n",
    "art[\"artist\"] = art.artist.apply(lambda s: fix_uni(s))\n",
    "top[\"TITLE\"] = top.TITLE.apply(lambda s: fix_uni(s))\n",
    "mis[\"TITLE\"] = mis.TITLE.apply(lambda s: fix_uni(s))"
   ]
  },
  {
   "cell_type": "code",
   "execution_count": 146,
   "metadata": {
    "collapsed": false,
    "scrolled": true
   },
   "outputs": [],
   "source": [
    "# for thing in (top['ARTIST'][430:700]):\n",
    "#     print repr(thing)"
   ]
  },
  {
   "cell_type": "code",
   "execution_count": 147,
   "metadata": {
    "collapsed": false
   },
   "outputs": [],
   "source": [
    "art.to_csv(\"artists_and_genres.csv\")#, encoding='utf-8')\n",
    "gen.to_csv(\"genres_and_subs.csv\")#, encoding='utf-8')\n",
    "mis.to_csv(\"missing_songs.csv\")#, encoding='utf-8')\n",
    "top.to_csv(\"top_songs_more_info.csv\")#, encoding='utf-8')"
   ]
  },
  {
   "cell_type": "code",
   "execution_count": null,
   "metadata": {
    "collapsed": true
   },
   "outputs": [],
   "source": []
  }
 ],
 "metadata": {
  "kernelspec": {
   "display_name": "Python 2",
   "language": "python",
   "name": "python2"
  },
  "language_info": {
   "codemirror_mode": {
    "name": "ipython",
    "version": 2
   },
   "file_extension": ".py",
   "mimetype": "text/x-python",
   "name": "python",
   "nbconvert_exporter": "python",
   "pygments_lexer": "ipython2",
   "version": "2.7.12"
  }
 },
 "nbformat": 4,
 "nbformat_minor": 0
}
